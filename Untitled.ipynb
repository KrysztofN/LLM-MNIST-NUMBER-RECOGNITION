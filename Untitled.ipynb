{
 "cells": [
  {
   "cell_type": "code",
   "execution_count": 13,
   "id": "07b6418e-5e48-44c5-a1fb-e40426e733dc",
   "metadata": {},
   "outputs": [],
   "source": [
    "import numpy as np\n",
    "import os"
   ]
  },
  {
   "cell_type": "code",
   "execution_count": 14,
   "id": "f31644c4-310a-4367-a596-c047c2e6b598",
   "metadata": {},
   "outputs": [],
   "source": [
    "data_dir = \"data/MNIST/raw\"\n",
    "train_images_path = os.path.join(data_dir, \"train-images-idx3-ubyte\")\n",
    "train_labels_path = os.path.join(data_dir, \"train-labels-idx1-ubyte\")\n",
    "test_images_path = os.path.join(data_dir, \"t10k-images-idx3-ubyte\")\n",
    "test_labels_path = os.path.join(data_dir, \"t10k-labels-idx1-ubyte\")"
   ]
  },
  {
   "cell_type": "code",
   "execution_count": null,
   "id": "abdce235-1c5c-4a72-9c95-82565e4ab0e5",
   "metadata": {},
   "outputs": [],
   "source": [
    "# Loading images\n",
    "def load_images(file_path):\n",
    "    with open(file_path, 'rb') as f:\n",
    "        data = np.frombuffer(f.read(), np.uint8, offset=16)\n",
    "    return data.reshape(-1, 28*28)"
   ]
  },
  {
   "cell_type": "code",
   "execution_count": 15,
   "id": "6a63f0c1-bff0-44a7-8a3f-9f4c23727137",
   "metadata": {},
   "outputs": [
    {
     "ename": "SyntaxError",
     "evalue": "incomplete input (2361168532.py, line 2)",
     "output_type": "error",
     "traceback": [
      "\u001b[1;36m  Cell \u001b[1;32mIn[15], line 2\u001b[1;36m\u001b[0m\n\u001b[1;33m    def load_labels(file_path):\u001b[0m\n\u001b[1;37m                               ^\u001b[0m\n\u001b[1;31mSyntaxError\u001b[0m\u001b[1;31m:\u001b[0m incomplete input\n"
     ]
    }
   ],
   "source": [
    "# Loading labels\n",
    "def load_labels(file_path):\n",
    "    with open(file_path)"
   ]
  },
  {
   "cell_type": "code",
   "execution_count": null,
   "id": "eccad5ab-fa93-490f-9a64-9b3b3b5aa835",
   "metadata": {},
   "outputs": [],
   "source": []
  }
 ],
 "metadata": {
  "kernelspec": {
   "display_name": "nllm",
   "language": "python",
   "name": "nllm"
  },
  "language_info": {
   "codemirror_mode": {
    "name": "ipython",
    "version": 3
   },
   "file_extension": ".py",
   "mimetype": "text/x-python",
   "name": "python",
   "nbconvert_exporter": "python",
   "pygments_lexer": "ipython3",
   "version": "3.11.5"
  }
 },
 "nbformat": 4,
 "nbformat_minor": 5
}
